{
 "cells": [
  {
   "cell_type": "code",
   "execution_count": 1,
   "metadata": {},
   "outputs": [],
   "source": [
    "import numpy as np\n",
    "from time import sleep\n",
    "import matplotlib.pyplot as plt\n",
    "from scipy.interpolate import lagrange\n",
    "from sympy import Symbol\n",
    "from sympy import plot\n",
    "from IPython.display import Image as img"
   ]
  },
  {
   "cell_type": "code",
   "execution_count": null,
   "metadata": {},
   "outputs": [],
   "source": [
    "#ABRINDO E LENDO ARQUIVOS NECESSARIOS.\n",
    "arq1 = open('Meses_Contagem.txt')\n",
    "x1 = arq1.readlines()\n",
    "arq2 = open('Meses_Ciclos.txt')\n",
    "x2 = arq2.readlines()\n",
    "arq3 = open('Meses_Mudancas.txt')\n",
    "x3 = arq3.readlines()\n",
    "arq1.close()\n",
    "arq2.close()\n",
    "arq3.close()"
   ]
  },
  {
   "cell_type": "code",
   "execution_count": null,
   "metadata": {},
   "outputs": [],
   "source": [
    "#NOMEANDO ALGUMAS VAREAVEIS UTEIS.\n",
    "t1 = len(x1)\n",
    "t2 = len(x2)\n",
    "t3 = len(x3)"
   ]
  },
  {
   "cell_type": "code",
   "execution_count": null,
   "metadata": {
    "scrolled": true
   },
   "outputs": [],
   "source": [
    "#SEPARANDO OS CICLOS E CALCULANDO A MEDIA E O DESVIO PADRAO.\n",
    "max = 0 \n",
    "min = 0\n",
    "dvpmax = 0\n",
    "dvpmin = 0\n",
    "varre = 0\n",
    "c = 0\n",
    "inicio = 0\n",
    "media = 0\n",
    "mediasqr = 0\n",
    "ciclo = 14\n",
    "sigma = 0\n",
    "var = list()\n",
    "dvp = list()\n",
    "mda = list()\n",
    "clo = list()\n",
    "mediana = list()\n",
    "for i in range(0,t2):\n",
    "    for j in range(0,t3):\n",
    "        if x2[i] == x3[j]:\n",
    "            ciclo += 1\n",
    "            final = inicio + len(x2[inicio:i])\n",
    "            sc= x1[inicio:final]\n",
    "            tam =len(sc)\n",
    "            if tam%2 == 0:\n",
    "                mediana.append(sc[int(tam/2)])\n",
    "            else:\n",
    "                mediana.append(sc[int((((tam+1)/2)+(tam-1)/2)/2)])\n",
    "            for n in range(0,len(sc)-1):\n",
    "                if sc[n+1]>sc[n]:\n",
    "                    max = sc[n+1]\n",
    "                    min = sc[n]\n",
    "            for n in sc:\n",
    "                #print(f'\\n{n:4}',end = '')\n",
    "                media += float(n)\n",
    "                mediasqr += float(n)**2\n",
    "            soma = media\n",
    "            media = media/len(sc)\n",
    "            mediasqr = mediasqr/len(sc)\n",
    "            for n in sc:\n",
    "                sigma += (float(n) - media)**2\n",
    "            sigma = (sigma/len(sc))**(0.5)\n",
    "            var.append((mediasqr)**(0.5)/sigma)\n",
    "            dvp.append(sigma)\n",
    "            mda.append(media)\n",
    "            clo.append(ciclo)\n",
    "            inicio = final\n",
    "            max = 0\n",
    "            min = 0\n",
    "            tam = 0\n",
    "            #print(f'A média do ciclo {ciclo} é {media}',end='')\n",
    "            #print(f'\\n O desvio padrão do ciclo {ciclo} é {sigma}',end='')\n",
    "            #print()\n",
    "            #print(f'\\n Achei um novo ciclo no mês {x2[i]}',end='')\n",
    "\n",
    "'''for n in range(0,len(dvp)-1):\n",
    "    #print(dvp[n])\n",
    "    if dvp[n] < dvp[n+1]:\n",
    "        if dvpmax<dvp[n+1]:\n",
    "            dvpmax = dvp[n+1]\n",
    "            dvpmin = dvp[n]\n",
    "        #print(f'{dvp[n]} é menor do que {dvp[n+1]}')\n",
    "    else:\n",
    "        if dvpmax<dvp[n]:\n",
    "            dvpmax = dvp[n]\n",
    "            dvpmin = dvp[n+1]\n",
    "        #print(f'{dvp[n]} é maior do que {dvp[n+1]}')\n",
    "for n in dvp:\n",
    "    n = n/dvpmax\n",
    "    print(n)'''\n",
    "for p in range(0,len(mediana)):\n",
    "    mediana[p] = float(mediana[p])\n",
    "plt.figure(figsize=(14,5))\n",
    "plt.subplot(1,2,1)\n",
    "plt.plot(clo,mediana)\n",
    "plt.title('Mediana')\n",
    "plt.subplot(1,2,2)\n",
    "plt.plot(clo,mda,'r')\n",
    "plt.title('Média')\n",
    "plt.savefig('Gráficos dente de serra.jpeg')\n",
    "plt.show()"
   ]
  },
  {
   "cell_type": "code",
   "execution_count": null,
   "metadata": {},
   "outputs": [],
   "source": [
    "#CRIANDO OS POLINOMIOS DE LAGRANGE.\n",
    "x = Symbol('x')\n",
    "y = -0.000436*x**8 + 0.06594*x**7 - 4.351*x**6 + 163.5*x**5 - 3830*x**4 + 5.724e+04*x**3 - 5.331e+05*x**2 + 2.828e+06*x - 6.544e+06\n",
    "lag_pol = lagrange(clo,mda)\n",
    "derivada = y.diff(x)\n",
    "plot(x,-0.003488*x**7 + 0.46158*x**6 - 26.106*x**5 + 817.5*x**4 - 15320*x**3 + 171720.0*x**2 - 1066200.0*x + 2828000.0,(x,0,20))"
   ]
  },
  {
   "cell_type": "code",
   "execution_count": null,
   "metadata": {},
   "outputs": [],
   "source": [
    "x = np.linspace(clo[0], clo[-1])\n",
    "plt.figure(figsize=(14,6))\n",
    "plt.plot(x, lag_pol(x))\n",
    "plt.plot(clo, mda,'ro', mew=2)\n",
    "plt.grid()\n",
    "plt.show()"
   ]
  },
  {
   "cell_type": "code",
   "execution_count": 4,
   "metadata": {},
   "outputs": [
    {
     "name": "stdout",
     "output_type": "stream",
     "text": [
      "A linha continua representa o Norte e a linha discreta representa o Sul\n"
     ]
    },
    {
     "data": {
      "image/jpeg": "[encoded data removed]",
      "text/plain": [
       "<IPython.core.display.Image object>"
      ]
     },
     "execution_count": 4,
     "metadata": {
      "image/jpeg": {
       "height": 300,
       "width": 1000
      }
     },
     "output_type": "execute_result"
    }
   ],
   "source": [
    "print('A linha continua representa o Norte e a linha discreta representa o Sul')\n",
    "img(filename='North_vs_South.jpg', width = 1000.0, height = 300.0)"
   ]
  },
  {
   "cell_type": "code",
   "execution_count": null,
   "metadata": {},
   "outputs": [],
   "source": []
  }
 ],
 "metadata": {
  "kernelspec": {
   "display_name": "Python 3",
   "language": "python",
   "name": "python3"
  },
  "language_info": {
   "codemirror_mode": {
    "name": "ipython",
    "version": 3
   },
   "file_extension": ".py",
   "mimetype": "text/x-python",
   "name": "python",
   "nbconvert_exporter": "python",
   "pygments_lexer": "ipython3",
   "version": "3.6.5"
  }
 },
 "nbformat": 4,
 "nbformat_minor": 2
}
