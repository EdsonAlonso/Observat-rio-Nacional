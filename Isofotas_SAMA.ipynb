{
 "cells": [
  {
   "cell_type": "code",
   "execution_count": null,
   "metadata": {},
   "outputs": [],
   "source": [
    "#IMPORTANDO BIBLIOTECAS IMPORTANTES\n",
    "import pandas as pd\n",
    "import numpy as np\n",
    "import scipy as sp\n",
    "import matplotlib.pyplot as plt\n",
    "from scipy.interpolate import griddata \n",
    "from Modules.Sama_Irai import calang,caldist"
   ]
  },
  {
   "cell_type": "code",
   "execution_count": null,
   "metadata": {
    "scrolled": false
   },
   "outputs": [],
   "source": [
    "# Criacao dos dataframes aqui:\n",
    "iso = pd.read_csv('Data_01',delim_whitespace=True,skiprows=2)\n",
    "\n",
    "irai = pd.read_excel('Irai(RS).xls',sheet_name=2,skiprows=4,usecols=[0,19])\n",
    "irai['Lat'] = -27.18\n",
    "irai['Long'] = -53.23\n",
    "\n",
    "header = ['Ano', 'Long','Lat','F']\n",
    "sama = pd.read_excel('Sama.xls')"
   ]
  },
  {
   "cell_type": "code",
   "execution_count": null,
   "metadata": {},
   "outputs": [],
   "source": [
    "# Plot aqui: \n",
    "plt.figure(figsize=(20,10))\n",
    "\n",
    "p1 = plt.scatter(iso['Long'],iso['Lat'],c = iso['F'],cmap='hsv')\n",
    "cbar = plt.colorbar(p1, aspect=30, fraction = 0.03, orientation=\"vertical\")\n",
    "cbar.set_label('F $ (nT) $',fontsize=15,rotation = 0)\n",
    "plt.xlabel('Long (°)', fontsize=30)\n",
    "plt.ylabel('Lat (°)', fontsize=30)\n",
    "plt.xticks(fontsize=15)\n",
    "plt.yticks(fontsize=15)\n",
    "plt.title('F (nT)',fontsize=30)\n",
    "plt.grid()\n",
    "\n",
    "plt.show()"
   ]
  },
  {
   "cell_type": "code",
   "execution_count": null,
   "metadata": {
    "scrolled": false
   },
   "outputs": [],
   "source": [
    "# Definicão da amostragem de pontos (longX, latY) a serem criados:\n",
    "xmin = iso.min()['Long']\n",
    "xmax = iso.max()['Long']\n",
    "x = np.linspace(xmin, xmax, 50)\n",
    "\n",
    "ymin = iso.min()['Lat']\n",
    "ymax = iso.max()['Lat']\n",
    "y = np.linspace(ymin, ymax, 50)\n",
    "\n",
    "#Criação do Meshgrid:\n",
    "X,Y = np.meshgrid(x,y)"
   ]
  },
  {
   "cell_type": "code",
   "execution_count": null,
   "metadata": {},
   "outputs": [],
   "source": [
    "# Criacao de arrays para facilitar a funcao de interpolacao (SENAO DÁ CHABUUUU!!!! - limitação do pandas!):\n",
    "long = np.array(iso['Long'])\n",
    "lat = np.array(iso['Lat'])\n",
    "F = np.array(iso['F'])"
   ]
  },
  {
   "cell_type": "code",
   "execution_count": null,
   "metadata": {},
   "outputs": [],
   "source": [
    "# interpolacao aqui:\n",
    "Fi_cubic   = griddata( (long, lat), F, (X,Y), method = 'cubic')"
   ]
  },
  {
   "cell_type": "code",
   "execution_count": null,
   "metadata": {},
   "outputs": [],
   "source": [
    "#Creating our model - elipse for now\n",
    "theta = np.linspace(0,2*np.pi,50)\n",
    "r1 = 1.45\n",
    "r2 = 1.0"
   ]
  },
  {
   "cell_type": "code",
   "execution_count": null,
   "metadata": {
    "scrolled": false
   },
   "outputs": [],
   "source": [
    "#Plotando as Isofotas\n",
    "plt.figure(figsize=(17,7), facecolor='w')\n",
    "\n",
    "plt.subplot(121)\n",
    "p1 = plt.plot(r1*np.cos(theta) - 48.188,r2*np.sin(theta) - 26.12,'r',label = 'Modelo')\n",
    "plt.legend()\n",
    "p2 = plt.contour(X, Y, Fi_cubic, 5,cmap = 'jet') \n",
    "cbar = plt.colorbar(p2, aspect=30, fraction = 0.03, orientation=\"horizontal\")\n",
    "cbar.set_label('F $(nT)$',fontsize=15,rotation = 0)\n",
    "plt.xlabel('Long (°)', fontsize=16)\n",
    "plt.ylabel('Lat (°)', fontsize=16)\n",
    "plt.grid()\n",
    "\n",
    "plt.subplot(122)\n",
    "p2 = plt.contourf(X, Y, Fi_cubic, 200,cmap='jet') \n",
    "cbar = plt.colorbar(p2, aspect=30, fraction = 0.03, orientation=\"horizontal\")\n",
    "cbar.set_label('F $(nT)$',fontsize=15,rotation = 0)\n",
    "plt.xlabel('Long (°)', fontsize=16)\n",
    "plt.ylabel('Lat (°)', fontsize=16)\n",
    "plt.grid()\n",
    "\n",
    "plt.savefig('Isofotas 1961.pdf', dpi=300, transparet=True, bbox_inches='tight')\n",
    "plt.show()"
   ]
  },
  {
   "cell_type": "code",
   "execution_count": null,
   "metadata": {},
   "outputs": [],
   "source": [
    "#Calculando as distâncias e ângulos entre o centro da SAMA e Irai no periodo de 1961-2010\n",
    "distances = np.zeros(len(irai['Lat']))\n",
    "angles = np.zeros(len(irai['Lat']))\n",
    "for i in range(len(irai['Lat'])):\n",
    "    distances[i] = caldist((r1*np.sin(theta)-26.25)[i],(r1*np.cos(theta) - 48.25)[i],irai['Lat'][i],irai['Long'][i])\n",
    "    angles[i] = calang((r1*np.sin(theta)-26.25)[i],(r1*np.cos(theta) - 48.25)[i],irai['Lat'][i],irai['Long'][i])\n",
    "sama['Distances'] = distances\n",
    "sama['Angles'] = angles\n",
    "#sama"
   ]
  },
  {
   "cell_type": "code",
   "execution_count": null,
   "metadata": {},
   "outputs": [],
   "source": [
    "#PLotando as distâncias entre Irai e o centro da SAMA:\n",
    "plt.figure(figsize=(20,10))\n",
    "\n",
    "plt.subplot(121)\n",
    "plt.title('Distancia SAMA X Irai (m) 1961 - 2010', fontsize=20)\n",
    "p2 = plt.scatter(sama['Ano'],sama['Distances'], c=sama['F'],cmap='jet',s = 100)\n",
    "cbar = plt.colorbar(p2, aspect=30, fraction = 0.03, orientation=\"horizontal\")\n",
    "cbar.set_label('F $(nT)$',fontsize=15,rotation = 0)\n",
    "plt.xlabel('Ano', fontsize=30)\n",
    "plt.ylabel('Distância (m)', fontsize=30)\n",
    "plt.xticks(fontsize=15)\n",
    "plt.yticks(fontsize=15)\n",
    "plt.grid()\n",
    "\n",
    "plt.subplot(122)\n",
    "plt.title('Ângulo SAMA X Irai (°) 1961 - 2010', fontsize=20)\n",
    "p2 = plt.scatter(sama['Ano'],sama['Angles'], c=sama['F'],cmap='jet',s = 100)\n",
    "cbar = plt.colorbar(p2, aspect=30, fraction = 0.03, orientation=\"horizontal\")\n",
    "cbar.set_label('F $(nT)$',fontsize=15,rotation = 0)\n",
    "plt.xlabel('Ano', fontsize=30)\n",
    "plt.ylabel('Ângulo (°)', fontsize=30)\n",
    "plt.xticks(fontsize=15)\n",
    "plt.yticks(fontsize=15)\n",
    "plt.grid()\n",
    "\n",
    "plt.savefig('SAMA vs IRAI.pdf', dpi=300, transparet=True, bbox_inches='tight')\n",
    "plt.show()"
   ]
  },
  {
   "cell_type": "code",
   "execution_count": null,
   "metadata": {},
   "outputs": [],
   "source": []
  }
 ],
 "metadata": {
  "kernelspec": {
   "display_name": "Python 3",
   "language": "python",
   "name": "python3"
  },
  "language_info": {
   "codemirror_mode": {
    "name": "ipython",
    "version": 3
   },
   "file_extension": ".py",
   "mimetype": "text/x-python",
   "name": "python",
   "nbconvert_exporter": "python",
   "pygments_lexer": "ipython3",
   "version": "3.6.5"
  }
 },
 "nbformat": 4,
 "nbformat_minor": 2
}
